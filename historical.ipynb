{
 "cells": [
  {
   "cell_type": "code",
   "execution_count": 2,
   "metadata": {},
   "outputs": [],
   "source": [
    "import pandas as pd\n",
    "import numpy as np\n",
    "import plotly.express as px\n",
    "import plotly.graph_objects as go\n",
    "import seaborn as sns"
   ]
  },
  {
   "cell_type": "code",
   "execution_count": 4,
   "metadata": {},
   "outputs": [],
   "source": [
    "apple = pd.read_csv('./Historical Data/AAPL.csv')\n",
    "amazon = pd.read_csv('./Historical Data/AMZN.csv')\n",
    "coinbase = pd.read_csv('./Historical Data/COIN.csv')\n",
    "disney = pd.read_csv('./Historical Data/DIS.csv')\n",
    "mastercard = pd.read_csv('./Historical Data/MA.csv')\n",
    "meta = pd.read_csv('./Historical Data/META.csv')\n",
    "netflix = pd.read_csv('./Historical Data/NFLX.csv')\n",
    "qualcomm = pd.read_csv('./Historical Data/QCOM.csv')\n",
    "toyota = pd.read_csv('./Historical Data/TM.csv')\n",
    "tesla = pd.read_csv('./Historical Data/TSLA.csv')\n",
    "tsmc = pd.read_csv('./Historical Data/TSM.csv')"
   ]
  },
  {
   "cell_type": "code",
   "execution_count": null,
   "metadata": {},
   "outputs": [],
   "source": []
  }
 ],
 "metadata": {
  "kernelspec": {
   "display_name": "Python 3",
   "language": "python",
   "name": "python3"
  },
  "language_info": {
   "codemirror_mode": {
    "name": "ipython",
    "version": 3
   },
   "file_extension": ".py",
   "mimetype": "text/x-python",
   "name": "python",
   "nbconvert_exporter": "python",
   "pygments_lexer": "ipython3",
   "version": "3.11.7"
  },
  "orig_nbformat": 4
 },
 "nbformat": 4,
 "nbformat_minor": 2
}
